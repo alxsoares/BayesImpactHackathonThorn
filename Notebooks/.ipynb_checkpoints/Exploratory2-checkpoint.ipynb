{
 "metadata": {
  "name": "",
  "signature": "sha256:e3dea49ca16da650d5cf069261fbf752fbd945e2618857ea39e0eb534066ad10"
 },
 "nbformat": 3,
 "nbformat_minor": 0,
 "worksheets": [
  {
   "cells": [
    {
     "cell_type": "code",
     "collapsed": true,
     "input": [
      "import helper\n",
      "\n",
      "from util import thorn_row\n",
      "tr = thorn_row()\n",
      "\n",
      "tr.next()"
     ],
     "language": "python",
     "metadata": {},
     "outputs": [
      {
       "metadata": {},
       "output_type": "pyout",
       "prompt_number": 1,
       "text": [
        "['SiteName',\n",
        " 'City',\n",
        " 'Location',\n",
        " 'postTitle',\n",
        " 'postAge',\n",
        " 'postText',\n",
        " 'postCreationDate',\n",
        " 'postUrl',\n",
        " 'postAuthor',\n",
        " 'postEmail',\n",
        " 'postPhone',\n",
        " 'postPrice',\n",
        " 'postId']"
       ]
      }
     ],
     "prompt_number": 1
    },
    {
     "cell_type": "code",
     "collapsed": false,
     "input": [
      "tr.next()"
     ],
     "language": "python",
     "metadata": {},
     "outputs": [
      {
       "metadata": {},
       "output_type": "pyout",
       "prompt_number": 3,
       "text": [
        "['Backpage.com',\n",
        " 'Aberdeen',\n",
        " 'Aberdeen, anywhere you want me!',\n",
        " 'A Flirty Sweetheart for Your VIP Taste! - 19',\n",
        " '19',\n",
        " 'http://www.adultsearch.com/classifieds/bp?id=2Microsoft.SqlServer.Dts.Pipeline.BlobColumn',\n",
        " '2014-02-27 04:02:00+00:00',\n",
        " 'http://aberdeen-sd.backpage.com/FemaleEscorts/a-flirty-sweetheart-for-your-vip-taste-19/4420269',\n",
        " '',\n",
        " '',\n",
        " '',\n",
        " '',\n",
        " '4420269 aberdeen-sd']"
       ]
      }
     ],
     "prompt_number": 3
    },
    {
     "cell_type": "code",
     "collapsed": false,
     "input": [],
     "language": "python",
     "metadata": {},
     "outputs": [],
     "prompt_number": 3
    },
    {
     "cell_type": "code",
     "collapsed": false,
     "input": [],
     "language": "python",
     "metadata": {},
     "outputs": []
    }
   ],
   "metadata": {}
  }
 ]
}